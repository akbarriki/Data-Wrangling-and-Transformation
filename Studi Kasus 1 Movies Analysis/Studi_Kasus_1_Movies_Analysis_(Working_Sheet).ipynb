{
  "nbformat": 4,
  "nbformat_minor": 0,
  "metadata": {
    "colab": {
      "provenance": [],
      "collapsed_sections": [
        "YynbKOVBjMAQ",
        "RYZkOCZmjexS",
        "QU35ETmRkk_J",
        "4Q0yWS8vnn0v"
      ]
    },
    "kernelspec": {
      "name": "python3",
      "display_name": "Python 3"
    },
    "language_info": {
      "name": "python"
    }
  },
  "cells": [
    {
      "cell_type": "markdown",
      "source": [
        "# Studi Kasus 1 (Walkthrough)\n",
        "\n",
        "<p> Pada kali ini Anda akan berperan sebagai seorang data engineer. Anda mendapatkan permintaan dari seorang *data analyst* dan *data scientist* untuk melakukan proses *data wrangling* pada sebuah dataset film untuk memastikan dataset tersebut siap dan layak untuk dianalisis oleh sang *data analyst* dan dapat menjadi basis pengembangan sebuah model prediktif yang sedang dikerjakan oleh sang *data scientist*</p>\n",
        "\n",
        "<p>Dataset yang anda gunakan pada proyek ini berisi sejumlah daftar film beserta yang memuat informasi seperti:\n",
        "\n",
        "\n",
        "*   Judul Film, Censorship Rating, Genre, Tahun Rilis, IMDb Score, Jumlah Vote IMDb,\n",
        "*   Biaya Produksi (`budget`) dan Pemasukan Kotor (`gross`) yang dicetak masing-masing film\n",
        "*   Flag yang merepresentasikan keterangan apakah film tersebut pernah dinominasikan/memenangkan kategori `*Best Picture*` pada *Academy Awards*.\n",
        "\n",
        "\n",
        "Atas data tersebut, berikut detil informasi dan permintaan dari *data analyst*:\n",
        "1.  Lakukan Penanganan Missing Values (Jika ada)\n",
        "2.  Lakukan split atas kolom `released` sehingga didapatkan 2 kolom baru yakni `released_date` dan `released_country`. Lakukan penyesuaian format pada kolom `released_date` yang baru dibentuk sehingga memenuhi format **'yyyy-mm-dd'**\n",
        "3.  Untuk setiap pemasukan kotor yang diperoleh masing-masing film, 50% di antaranya disetorkan ke Pihak Bioskop. Ini berarti Penghasilan yang diterima Pihak Studio hanya 50% dari total *gross*. Dengan informasi ini, hitunglah:\n",
        "  * profit (50% gross - budget) yang dibukukan oleh masing-masing film.\n",
        "  * Hitung pula profit yang telah disesuaikan berdasarkan tingkat inflasi pada tahun di mana masing-masing film tersebut dirilis!\n",
        "4.   Kategorisasikan Profit (setelah disesuaikan dengan tingkat inflasi) ke dalam 5 kelas:\n",
        "  * Rugi (Kurang dari 0)\n",
        "  * 0 <= profit < 500,000\n",
        "  * 500,000 <= profit < 1,000,000\n",
        "  * 1,000,000 <= profit < 100,000,000\n",
        "  * lebih dari 100,000,000\n",
        "\n",
        "5.  Petakan kategori pada nomor 2 ke dalam list **[loss, low, medium, high, very high]**\n",
        "\n",
        "Adapun permintaan dari *data scientist* adalah **lakukan transformasi atas seluruh *categorical attributes* yang ada ke dalam bentuk Encoding yang paling sesuai**\n",
        "\n",
        "\n"
      ],
      "metadata": {
        "id": "e0TY63SWekTM"
      }
    },
    {
      "cell_type": "markdown",
      "source": [
        "#0. Instalasi dan Import Library"
      ],
      "metadata": {
        "id": "rnFJw7QkjG9Y"
      }
    },
    {
      "cell_type": "code",
      "source": [
        "!pip install -U pandera"
      ],
      "metadata": {
        "colab": {
          "base_uri": "https://localhost:8080/"
        },
        "id": "4Kv1bgNzLIap",
        "outputId": "b0778bad-9577-4e8b-c0ae-65c70c10e574"
      },
      "execution_count": null,
      "outputs": [
        {
          "output_type": "stream",
          "name": "stdout",
          "text": [
            "Requirement already satisfied: pandera in /usr/local/lib/python3.10/dist-packages (0.17.0)\n",
            "Requirement already satisfied: multimethod in /usr/local/lib/python3.10/dist-packages (from pandera) (1.10)\n",
            "Requirement already satisfied: numpy>=1.19.0 in /usr/local/lib/python3.10/dist-packages (from pandera) (1.23.5)\n",
            "Requirement already satisfied: packaging>=20.0 in /usr/local/lib/python3.10/dist-packages (from pandera) (23.1)\n",
            "Requirement already satisfied: pandas>=1.2.0 in /usr/local/lib/python3.10/dist-packages (from pandera) (1.5.3)\n",
            "Requirement already satisfied: pydantic in /usr/local/lib/python3.10/dist-packages (from pandera) (1.10.12)\n",
            "Requirement already satisfied: typeguard>=3.0.2 in /usr/local/lib/python3.10/dist-packages (from pandera) (4.1.5)\n",
            "Requirement already satisfied: typing-inspect>=0.6.0 in /usr/local/lib/python3.10/dist-packages (from pandera) (0.9.0)\n",
            "Requirement already satisfied: wrapt in /usr/local/lib/python3.10/dist-packages (from pandera) (1.15.0)\n",
            "Requirement already satisfied: python-dateutil>=2.8.1 in /usr/local/lib/python3.10/dist-packages (from pandas>=1.2.0->pandera) (2.8.2)\n",
            "Requirement already satisfied: pytz>=2020.1 in /usr/local/lib/python3.10/dist-packages (from pandas>=1.2.0->pandera) (2023.3.post1)\n",
            "Requirement already satisfied: typing-extensions>=4.7.0 in /usr/local/lib/python3.10/dist-packages (from typeguard>=3.0.2->pandera) (4.8.0)\n",
            "Requirement already satisfied: mypy-extensions>=0.3.0 in /usr/local/lib/python3.10/dist-packages (from typing-inspect>=0.6.0->pandera) (1.0.0)\n",
            "Requirement already satisfied: six>=1.5 in /usr/local/lib/python3.10/dist-packages (from python-dateutil>=2.8.1->pandas>=1.2.0->pandera) (1.16.0)\n"
          ]
        }
      ]
    },
    {
      "cell_type": "code",
      "source": [
        "!pip install missingno"
      ],
      "metadata": {
        "colab": {
          "base_uri": "https://localhost:8080/"
        },
        "id": "98rmEzP7LO0_",
        "outputId": "162a3230-7367-4a8a-d7ef-5723ee117583"
      },
      "execution_count": null,
      "outputs": [
        {
          "output_type": "stream",
          "name": "stdout",
          "text": [
            "Requirement already satisfied: missingno in /usr/local/lib/python3.10/dist-packages (0.5.2)\n",
            "Requirement already satisfied: numpy in /usr/local/lib/python3.10/dist-packages (from missingno) (1.23.5)\n",
            "Requirement already satisfied: matplotlib in /usr/local/lib/python3.10/dist-packages (from missingno) (3.7.1)\n",
            "Requirement already satisfied: scipy in /usr/local/lib/python3.10/dist-packages (from missingno) (1.11.2)\n",
            "Requirement already satisfied: seaborn in /usr/local/lib/python3.10/dist-packages (from missingno) (0.12.2)\n",
            "Requirement already satisfied: contourpy>=1.0.1 in /usr/local/lib/python3.10/dist-packages (from matplotlib->missingno) (1.1.0)\n",
            "Requirement already satisfied: cycler>=0.10 in /usr/local/lib/python3.10/dist-packages (from matplotlib->missingno) (0.11.0)\n",
            "Requirement already satisfied: fonttools>=4.22.0 in /usr/local/lib/python3.10/dist-packages (from matplotlib->missingno) (4.42.1)\n",
            "Requirement already satisfied: kiwisolver>=1.0.1 in /usr/local/lib/python3.10/dist-packages (from matplotlib->missingno) (1.4.5)\n",
            "Requirement already satisfied: packaging>=20.0 in /usr/local/lib/python3.10/dist-packages (from matplotlib->missingno) (23.1)\n",
            "Requirement already satisfied: pillow>=6.2.0 in /usr/local/lib/python3.10/dist-packages (from matplotlib->missingno) (9.4.0)\n",
            "Requirement already satisfied: pyparsing>=2.3.1 in /usr/local/lib/python3.10/dist-packages (from matplotlib->missingno) (3.1.1)\n",
            "Requirement already satisfied: python-dateutil>=2.7 in /usr/local/lib/python3.10/dist-packages (from matplotlib->missingno) (2.8.2)\n",
            "Requirement already satisfied: pandas>=0.25 in /usr/local/lib/python3.10/dist-packages (from seaborn->missingno) (1.5.3)\n",
            "Requirement already satisfied: pytz>=2020.1 in /usr/local/lib/python3.10/dist-packages (from pandas>=0.25->seaborn->missingno) (2023.3.post1)\n",
            "Requirement already satisfied: six>=1.5 in /usr/local/lib/python3.10/dist-packages (from python-dateutil>=2.7->matplotlib->missingno) (1.16.0)\n"
          ]
        }
      ]
    },
    {
      "cell_type": "code",
      "execution_count": null,
      "metadata": {
        "id": "YH3DMV5k5IT4"
      },
      "outputs": [],
      "source": [
        "import pandas as pd\n",
        "import numpy as np\n",
        "import pandera as pa\n",
        "import missingno as msno\n",
        "from tqdm import tqdm\n",
        "from datetime import datetime\n",
        "import warnings, re\n",
        "\n",
        "warnings.filterwarnings(\"ignore\")"
      ]
    },
    {
      "cell_type": "markdown",
      "source": [
        "#1. Discovery and Preliminary Cleaning (Handling Missing Values)"
      ],
      "metadata": {
        "id": "YynbKOVBjMAQ"
      }
    },
    {
      "cell_type": "code",
      "source": [
        "df = pd.read_csv(__)\n",
        "display(df.head())\n",
        "\n",
        "print(\"Jumlah Record: \", len(df))"
      ],
      "metadata": {
        "id": "0XRwGg6uMAnc"
      },
      "execution_count": null,
      "outputs": []
    },
    {
      "cell_type": "code",
      "source": [
        "df.info()"
      ],
      "metadata": {
        "id": "cdQzp02xjVop"
      },
      "execution_count": null,
      "outputs": []
    },
    {
      "cell_type": "markdown",
      "source": [
        "##1.1 Check Missing Values"
      ],
      "metadata": {
        "id": "RYZkOCZmjexS"
      }
    },
    {
      "cell_type": "code",
      "source": [
        "df.isna().sum()"
      ],
      "metadata": {
        "id": "49GukWpMKhh4"
      },
      "execution_count": null,
      "outputs": []
    },
    {
      "cell_type": "code",
      "source": [
        "msno.matrix(df)"
      ],
      "metadata": {
        "id": "qbsWCQwzMIHj"
      },
      "execution_count": null,
      "outputs": []
    },
    {
      "cell_type": "code",
      "source": [
        "df  = df.sort_values(['year'], ascending=True)\n",
        "df.head()"
      ],
      "metadata": {
        "id": "KXKbyoFKMl3-"
      },
      "execution_count": null,
      "outputs": []
    },
    {
      "cell_type": "code",
      "source": [
        "df.describe()"
      ],
      "metadata": {
        "id": "S-vK0xQdNOoS"
      },
      "execution_count": null,
      "outputs": []
    },
    {
      "cell_type": "code",
      "source": [
        "df[df.gross.isna()].describe()"
      ],
      "metadata": {
        "id": "NVU5CSQJNlCP"
      },
      "execution_count": null,
      "outputs": []
    },
    {
      "cell_type": "code",
      "source": [
        "df.votes.describe()"
      ],
      "metadata": {
        "id": "nuokLlHHNsBN"
      },
      "execution_count": null,
      "outputs": []
    },
    {
      "cell_type": "code",
      "source": [
        "msno.heatmap(df)"
      ],
      "metadata": {
        "id": "FVNZz21uM2Xt"
      },
      "execution_count": null,
      "outputs": []
    },
    {
      "cell_type": "markdown",
      "source": [
        "Dari Hasil Identifikasi Missing Values didapatkan informasi sebagai berikut:\n",
        "\n",
        "Kolom yang memiliki missing value\n",
        "\n",
        "1. `rating`\n",
        "<br />Tipe atribut (Categorical/Numerik): ****\n",
        "<br />Tipe Missing Values (MCAR/MAR/MNAR): ****\n",
        "<br />Strategi: ****\n",
        "<br /><br />\n",
        "2. `votes`\n",
        "<br />Tipe atribut (Categorical/Numerik): ****\n",
        "<br />Tipe Missing Values (MCAR/MAR/MNAR): ****\n",
        "<br />Strategi: ****\n",
        "<br /><br />\n",
        "3. `country`\n",
        "<br />Tipe atribut (Categorical/Numerik): ****\n",
        "<br />Tipe Missing Values (MCAR/MAR/MNAR): ****\n",
        "<br />Strategi: ****\n",
        "<br /><br />\n",
        "4. `gross`\n",
        "<br />Tipe atribut (Categorical/Numerik): ****\n",
        "<br />Tipe Missing Values (MCAR/MAR/MNAR): ****\n",
        "<br />Strategi: ****\n",
        "<br /><br />\n",
        "5. `company`\n",
        "<br />Tipe atribut (Categorical/Numerik): ****\n",
        "<br />Tipe Missing Values (MCAR/MAR/MNAR): ****\n",
        "<br />Strategi: ****\n",
        "<br /><br />\n",
        "6. `runtime`\n",
        "<br />Tipe atribut (Categorical/Numerik): ****\n",
        "<br />Tipe Missing Values (MCAR/MAR/MNAR): ****\n",
        "<br />Strategi: ****\n",
        "<br /><br />\n",
        "5. `best_pic_award`\n",
        "<br />Tipe atribut (Categorical/Numerik): ****\n",
        "<br />Tipe Missing Values (MCAR/MAR/MNAR): ****\n",
        "<br />Strategi: ****\n",
        "<br /><br />"
      ],
      "metadata": {
        "id": "jMNizplljtT4"
      }
    },
    {
      "cell_type": "markdown",
      "source": [
        "##1.2 Handling Missing Values"
      ],
      "metadata": {
        "id": "hdCzVlAwkiW3"
      }
    },
    {
      "cell_type": "markdown",
      "source": [
        "###1.2.1 Rating"
      ],
      "metadata": {
        "id": "QU35ETmRkk_J"
      }
    },
    {
      "cell_type": "code",
      "source": [
        "# untuk atribut rating dengan missing values, kita akan mencari 2 genre tertinggi\n",
        "df[df.rating.isna()]['genre'].value_counts().head(2).index"
      ],
      "metadata": {
        "id": "NbcyX1K3hBgS"
      },
      "execution_count": null,
      "outputs": []
    },
    {
      "cell_type": "code",
      "source": [
        "# temukan rating tertinggi untuk kedua genre tersebut\n",
        "df[df.genre.isin(['Drama','Horror'])]['rating'].value_counts()"
      ],
      "metadata": {
        "id": "IHq6VY7AKpj_"
      },
      "execution_count": null,
      "outputs": []
    },
    {
      "cell_type": "code",
      "source": [
        "# lakukan imputation dengan men-set nilai missing values pada kolom rating dengan rating tertinggi yang ditemukan sebelumnya\n",
        "df.rating.fillna(__, inplace=True)"
      ],
      "metadata": {
        "id": "znVnIDoGQXlB"
      },
      "execution_count": null,
      "outputs": []
    },
    {
      "cell_type": "code",
      "source": [
        "df.isna().sum()"
      ],
      "metadata": {
        "id": "Yj3CqPO1Qsj0"
      },
      "execution_count": null,
      "outputs": []
    },
    {
      "cell_type": "markdown",
      "source": [
        "###1.2.2 Votes"
      ],
      "metadata": {
        "id": "03SuTAFTQwOM"
      }
    },
    {
      "cell_type": "code",
      "source": [
        "# load data movies_votes yang digunakan pada votes enrichment\n",
        "df_votes = pd.read_csv(__)\n",
        "df_votes.columns = [\"votes_\"+col for col in list(df_votes.columns )]\n",
        "df_votes.head()"
      ],
      "metadata": {
        "id": "jm-GIubwQyNr"
      },
      "execution_count": null,
      "outputs": []
    },
    {
      "cell_type": "code",
      "source": [
        "# lakukan join antara df dengan df_votes dengan menggunakan 3 atribut sebagai join key: judul film, tahun rilis, dan imdb score\n",
        "df_merge = pd.merge(df, df_votes, how=__, left_on=[__], right_on=[__])"
      ],
      "metadata": {
        "id": "COEWyQosEF3I"
      },
      "execution_count": null,
      "outputs": []
    },
    {
      "cell_type": "code",
      "source": [
        "checked_rows = list(df_merge[df_merge.votes.isna()].index)\n",
        "checked rows"
      ],
      "metadata": {
        "id": "Y5ouRmSFENON"
      },
      "execution_count": null,
      "outputs": []
    },
    {
      "cell_type": "code",
      "source": [
        "votes_from_enrichment = df_merge.loc[df_merge.votes.isna(),'votes_votes']\n",
        "votes_na = df_merge.votes.isna(), 'votes'\n",
        "\n",
        "# proses imputation dengan menggunakan vote yang didapatkan dari prose enrichment\n",
        "df_merge.loc[votes_na] = __\n",
        "df_merge.loc[checked_rows]"
      ],
      "metadata": {
        "id": "46XpMVoNRKn3"
      },
      "execution_count": null,
      "outputs": []
    },
    {
      "cell_type": "code",
      "source": [
        "# drop seluruh kolom hasil enrichment pasca imputasi\n",
        "df = df_merge[list(df.columns)]\n",
        "display(df.head())\n",
        "print(\"Number of records: \", len(df))\n",
        "df.isna().sum()"
      ],
      "metadata": {
        "id": "KLEjwppiS0w6"
      },
      "execution_count": null,
      "outputs": []
    },
    {
      "cell_type": "markdown",
      "source": [
        "###1.2.3. Country"
      ],
      "metadata": {
        "id": "PYUXea61kpYo"
      }
    },
    {
      "cell_type": "code",
      "source": [
        "df[df['country'].isna()]"
      ],
      "metadata": {
        "id": "it6-3rXLRsLC"
      },
      "execution_count": null,
      "outputs": []
    },
    {
      "cell_type": "code",
      "source": [
        "#lakukan deletion pada kolom country\n",
        "df.dropna(subset=[__], inplace=True)\n",
        "df.isna().sum()"
      ],
      "metadata": {
        "id": "bHi9-5g_UNUU"
      },
      "execution_count": null,
      "outputs": []
    },
    {
      "cell_type": "markdown",
      "source": [
        "###1.2.4 Runtime"
      ],
      "metadata": {
        "id": "rJhYlT8TkwnG"
      }
    },
    {
      "cell_type": "code",
      "source": [
        "df[df['runtime'].isna()]"
      ],
      "metadata": {
        "id": "pRgJVY43R4oD"
      },
      "execution_count": null,
      "outputs": []
    },
    {
      "cell_type": "code",
      "source": [
        "# sedikit googling akan memberikan informasi runtime atas film tersebut yakni: 91 menit\n",
        "df['runtime'].fillna(91, inplace=True)\n",
        "df.isna().sum()"
      ],
      "metadata": {
        "id": "UEn-q4ddVGW8"
      },
      "execution_count": null,
      "outputs": []
    },
    {
      "cell_type": "markdown",
      "source": [
        "###1.2.5 Company"
      ],
      "metadata": {
        "id": "nWwGmmwGk0FQ"
      }
    },
    {
      "cell_type": "code",
      "source": [
        "df[df.company.isna()]"
      ],
      "metadata": {
        "id": "C3j9AbEDVRLT"
      },
      "execution_count": null,
      "outputs": []
    },
    {
      "cell_type": "code",
      "source": [
        "#lakukan proses deletion pada atribut company\n",
        "df.dropna(subset=[__], inplace=True)\n",
        "df.isna().sum()"
      ],
      "metadata": {
        "id": "wHkFGrm6SOs8"
      },
      "execution_count": null,
      "outputs": []
    },
    {
      "cell_type": "markdown",
      "source": [
        "###1.2.6 Gross"
      ],
      "metadata": {
        "id": "xTl9hpbvk48u"
      }
    },
    {
      "cell_type": "code",
      "source": [
        "# berikut adalah daftar genre dari setiap record dengan missing values pada atribut gross\n",
        "missing_genres = list(df[df['gross'].isna()].groupby(['genre'])['name'].count().index)\n",
        "missing_genres"
      ],
      "metadata": {
        "id": "jI3g4S0VSkQQ"
      },
      "execution_count": null,
      "outputs": []
    },
    {
      "cell_type": "code",
      "source": [
        "# Asumsi: seluruh missing values akan di-impute dengan menggunakan median untuk masing-masing genre pada 1981\n",
        "for genre in missing_genres:\n",
        "  rows_to_impute = (df['genre'] == __) & (df['gross'].isna())\n",
        "  median = df[(df['genre'] == __) & (df['year'] == __)].median()['gross']\n",
        "\n",
        "  checked_rows = list(df.loc[rows_to_impute, :].index)\n",
        "\n",
        "  print(f\"genre: {genre}\")\n",
        "  print(f\"median: {median}\")\n",
        "\n",
        "  df.loc[rows_to_impute, 'gross'] = median\n",
        "  display(df.loc[checked_rows, 'gross'])"
      ],
      "metadata": {
        "id": "KFWW_0MSaYa-"
      },
      "execution_count": null,
      "outputs": []
    },
    {
      "cell_type": "code",
      "source": [
        "df.isna().sum()"
      ],
      "metadata": {
        "id": "v28Zh9oNXiZB"
      },
      "execution_count": null,
      "outputs": []
    },
    {
      "cell_type": "code",
      "source": [
        "# setelah diteliti ternyata masih terdapat 1 missing value pada atribut gross. Hal ini disebabkan pada proses imputasi sebelumnya,\n",
        "# record tersebut tidak berhasil diupdate karena pada tahun 1981 tidak terdapat record dengan genre Fantasy.\n",
        "df[df['genre'] == 'Fantasy'].year.value_counts().sort_index()"
      ],
      "metadata": {
        "id": "CAz1xO4zp-DG"
      },
      "execution_count": null,
      "outputs": []
    },
    {
      "cell_type": "code",
      "source": [
        "# karena jumlah film pada genre Fantasy terbatas, maka proses imputasi akan menggunakan median dari gross film Fantasy pada rentang waktu 1981-1989\n",
        "condition = (df['genre'] == 'Fantasy') & (df['year'].isin(list(range(__,__))))\n",
        "fantasy_median = df[condition]['gross'].median()"
      ],
      "metadata": {
        "id": "qy9o5RI0hfTn"
      },
      "execution_count": null,
      "outputs": []
    },
    {
      "cell_type": "code",
      "source": [
        "df.loc[(df['genre'] == 'Fantasy') & (df['gross'].isna()), 'gross'] = __\n",
        "df.isna().sum()"
      ],
      "metadata": {
        "id": "XOnWyU4rp7MH"
      },
      "execution_count": null,
      "outputs": []
    },
    {
      "cell_type": "markdown",
      "source": [
        "###1.2.7 Best Picture Award"
      ],
      "metadata": {
        "id": "Vo_yb3SXoYp9"
      }
    },
    {
      "cell_type": "code",
      "source": [
        "df.best_pic_award.value_counts()"
      ],
      "metadata": {
        "id": "jDXJWiFSofaB"
      },
      "execution_count": null,
      "outputs": []
    },
    {
      "cell_type": "code",
      "source": [
        "df.best_pic_award.isna().sum()"
      ],
      "metadata": {
        "id": "RFlhu622olzv"
      },
      "execution_count": null,
      "outputs": []
    },
    {
      "cell_type": "code",
      "source": [
        "# lakukan \"missing imputation\" untuk atribut best_pic_award\n",
        "df.best_pic_award.fillna(__, inplace=True)\n",
        "df.best_pic_award.value_counts()"
      ],
      "metadata": {
        "id": "f4u9wXAPooeF"
      },
      "execution_count": null,
      "outputs": []
    },
    {
      "cell_type": "code",
      "source": [
        "df.isna().sum()"
      ],
      "metadata": {
        "id": "yb7N5wh1cb9O"
      },
      "execution_count": null,
      "outputs": []
    },
    {
      "cell_type": "markdown",
      "source": [
        "#2. Further Cleaning and Enrichment"
      ],
      "metadata": {
        "id": "juitSVpnlh9e"
      }
    },
    {
      "cell_type": "markdown",
      "source": [
        "##2.1 Split kolom `released` menjadi kolom `released_date` dan kolom `released_country`"
      ],
      "metadata": {
        "id": "4Q0yWS8vnn0v"
      }
    },
    {
      "cell_type": "code",
      "source": [
        "def clean_date(d, format=\"%Y-%m-%d\"):\n",
        "  try:\n",
        "    d = re.findall(__, d)[0]\n",
        "    return datetime.strftime(datetime.strptime(d, \"%B %d, %Y\"), format)\n",
        "  except:\n",
        "    return d\n",
        "\n",
        "def get_released_country(d):\n",
        "  try:\n",
        "    return re.findall(__, string)[0]\n",
        "  except:\n",
        "    return d\n",
        "\n",
        "# sanity check\n",
        "string =  \"December 18, 1989 (United States)\"\n",
        "print(clean_date(string))\n",
        "print(get_released_country(string))\n"
      ],
      "metadata": {
        "colab": {
          "base_uri": "https://localhost:8080/"
        },
        "id": "YJJkLjZImBUc",
        "outputId": "f0f75bbb-f9e3-410d-86a6-09ac2d49657f"
      },
      "execution_count": null,
      "outputs": [
        {
          "output_type": "stream",
          "name": "stdout",
          "text": [
            "1989-12-18\n",
            "United States\n"
          ]
        }
      ]
    },
    {
      "cell_type": "code",
      "source": [
        "# lakukan cleansing dengan menggunakan kedua fungsi di atas berdasarkan nilai dari kolom `released`\n",
        "df['released_date'] = __\n",
        "df['released_country'] = __\n",
        "df.head()"
      ],
      "metadata": {
        "id": "tylSE9v_lj-e"
      },
      "execution_count": null,
      "outputs": []
    },
    {
      "cell_type": "markdown",
      "source": [
        "##2.2. Hitung Profit"
      ],
      "metadata": {
        "id": "OMPObrpPdk6G"
      }
    },
    {
      "cell_type": "markdown",
      "source": [
        "###2.2.1 Hitung *Unadjusted Gross* (50% dari gross yang belum disesuaikan dengan inflasi)"
      ],
      "metadata": {
        "id": "r7rZ6m9QdsF9"
      }
    },
    {
      "cell_type": "code",
      "source": [
        "df['unadjusted_gross'] = __\n",
        "df[['gross','unadjusted_gross']].head()"
      ],
      "metadata": {
        "id": "CV71wvSXdmRL"
      },
      "execution_count": null,
      "outputs": []
    },
    {
      "cell_type": "markdown",
      "source": [
        "###2.2.2 Hitung *Unadjusted Profit* (`unadjusted_gross` - `budget`, belum disesuaikan dengan inflasi)"
      ],
      "metadata": {
        "id": "u_muByaYeM1c"
      }
    },
    {
      "cell_type": "code",
      "source": [
        "df['unadjusted_profit'] = __\n",
        "df[['name','year','budget','gross','unadjusted_gross','unadjusted_profit']].sample(5)"
      ],
      "metadata": {
        "id": "P0tOKs6beWdy"
      },
      "execution_count": null,
      "outputs": []
    },
    {
      "cell_type": "markdown",
      "source": [
        "###2.2.3 Hitung Adjusted Profit menggunakan Data Inflasi (*enrichment*)"
      ],
      "metadata": {
        "id": "_y_LCl5CgEyo"
      }
    },
    {
      "cell_type": "code",
      "source": [
        "df_inflation = pd.read_csv(\"__\")\n",
        "df_inflation"
      ],
      "metadata": {
        "colab": {
          "base_uri": "https://localhost:8080/",
          "height": 423
        },
        "id": "eXAAxFGmgLAA",
        "outputId": "a64f6dc9-66ec-43df-e3a0-83f8409729e2"
      },
      "execution_count": null,
      "outputs": [
        {
          "output_type": "execute_result",
          "data": {
            "text/plain": [
              "    year  present_equivalent_value\n",
              "0   1956                     11.32\n",
              "1   1957                     10.96\n",
              "2   1958                     10.66\n",
              "3   1959                     10.56\n",
              "4   1960                     10.41\n",
              "..   ...                       ...\n",
              "62  2018                      1.23\n",
              "63  2019                      1.20\n",
              "64  2020                      1.19\n",
              "65  2021                      1.14\n",
              "66  2022                      1.05\n",
              "\n",
              "[67 rows x 2 columns]"
            ],
            "text/html": [
              "\n",
              "  <div id=\"df-2bd96948-68e8-4820-90be-87a4f3a05a49\" class=\"colab-df-container\">\n",
              "    <div>\n",
              "<style scoped>\n",
              "    .dataframe tbody tr th:only-of-type {\n",
              "        vertical-align: middle;\n",
              "    }\n",
              "\n",
              "    .dataframe tbody tr th {\n",
              "        vertical-align: top;\n",
              "    }\n",
              "\n",
              "    .dataframe thead th {\n",
              "        text-align: right;\n",
              "    }\n",
              "</style>\n",
              "<table border=\"1\" class=\"dataframe\">\n",
              "  <thead>\n",
              "    <tr style=\"text-align: right;\">\n",
              "      <th></th>\n",
              "      <th>year</th>\n",
              "      <th>present_equivalent_value</th>\n",
              "    </tr>\n",
              "  </thead>\n",
              "  <tbody>\n",
              "    <tr>\n",
              "      <th>0</th>\n",
              "      <td>1956</td>\n",
              "      <td>11.32</td>\n",
              "    </tr>\n",
              "    <tr>\n",
              "      <th>1</th>\n",
              "      <td>1957</td>\n",
              "      <td>10.96</td>\n",
              "    </tr>\n",
              "    <tr>\n",
              "      <th>2</th>\n",
              "      <td>1958</td>\n",
              "      <td>10.66</td>\n",
              "    </tr>\n",
              "    <tr>\n",
              "      <th>3</th>\n",
              "      <td>1959</td>\n",
              "      <td>10.56</td>\n",
              "    </tr>\n",
              "    <tr>\n",
              "      <th>4</th>\n",
              "      <td>1960</td>\n",
              "      <td>10.41</td>\n",
              "    </tr>\n",
              "    <tr>\n",
              "      <th>...</th>\n",
              "      <td>...</td>\n",
              "      <td>...</td>\n",
              "    </tr>\n",
              "    <tr>\n",
              "      <th>62</th>\n",
              "      <td>2018</td>\n",
              "      <td>1.23</td>\n",
              "    </tr>\n",
              "    <tr>\n",
              "      <th>63</th>\n",
              "      <td>2019</td>\n",
              "      <td>1.20</td>\n",
              "    </tr>\n",
              "    <tr>\n",
              "      <th>64</th>\n",
              "      <td>2020</td>\n",
              "      <td>1.19</td>\n",
              "    </tr>\n",
              "    <tr>\n",
              "      <th>65</th>\n",
              "      <td>2021</td>\n",
              "      <td>1.14</td>\n",
              "    </tr>\n",
              "    <tr>\n",
              "      <th>66</th>\n",
              "      <td>2022</td>\n",
              "      <td>1.05</td>\n",
              "    </tr>\n",
              "  </tbody>\n",
              "</table>\n",
              "<p>67 rows × 2 columns</p>\n",
              "</div>\n",
              "    <div class=\"colab-df-buttons\">\n",
              "\n",
              "  <div class=\"colab-df-container\">\n",
              "    <button class=\"colab-df-convert\" onclick=\"convertToInteractive('df-2bd96948-68e8-4820-90be-87a4f3a05a49')\"\n",
              "            title=\"Convert this dataframe to an interactive table.\"\n",
              "            style=\"display:none;\">\n",
              "\n",
              "  <svg xmlns=\"http://www.w3.org/2000/svg\" height=\"24px\" viewBox=\"0 -960 960 960\">\n",
              "    <path d=\"M120-120v-720h720v720H120Zm60-500h600v-160H180v160Zm220 220h160v-160H400v160Zm0 220h160v-160H400v160ZM180-400h160v-160H180v160Zm440 0h160v-160H620v160ZM180-180h160v-160H180v160Zm440 0h160v-160H620v160Z\"/>\n",
              "  </svg>\n",
              "    </button>\n",
              "\n",
              "  <style>\n",
              "    .colab-df-container {\n",
              "      display:flex;\n",
              "      gap: 12px;\n",
              "    }\n",
              "\n",
              "    .colab-df-convert {\n",
              "      background-color: #E8F0FE;\n",
              "      border: none;\n",
              "      border-radius: 50%;\n",
              "      cursor: pointer;\n",
              "      display: none;\n",
              "      fill: #1967D2;\n",
              "      height: 32px;\n",
              "      padding: 0 0 0 0;\n",
              "      width: 32px;\n",
              "    }\n",
              "\n",
              "    .colab-df-convert:hover {\n",
              "      background-color: #E2EBFA;\n",
              "      box-shadow: 0px 1px 2px rgba(60, 64, 67, 0.3), 0px 1px 3px 1px rgba(60, 64, 67, 0.15);\n",
              "      fill: #174EA6;\n",
              "    }\n",
              "\n",
              "    .colab-df-buttons div {\n",
              "      margin-bottom: 4px;\n",
              "    }\n",
              "\n",
              "    [theme=dark] .colab-df-convert {\n",
              "      background-color: #3B4455;\n",
              "      fill: #D2E3FC;\n",
              "    }\n",
              "\n",
              "    [theme=dark] .colab-df-convert:hover {\n",
              "      background-color: #434B5C;\n",
              "      box-shadow: 0px 1px 3px 1px rgba(0, 0, 0, 0.15);\n",
              "      filter: drop-shadow(0px 1px 2px rgba(0, 0, 0, 0.3));\n",
              "      fill: #FFFFFF;\n",
              "    }\n",
              "  </style>\n",
              "\n",
              "    <script>\n",
              "      const buttonEl =\n",
              "        document.querySelector('#df-2bd96948-68e8-4820-90be-87a4f3a05a49 button.colab-df-convert');\n",
              "      buttonEl.style.display =\n",
              "        google.colab.kernel.accessAllowed ? 'block' : 'none';\n",
              "\n",
              "      async function convertToInteractive(key) {\n",
              "        const element = document.querySelector('#df-2bd96948-68e8-4820-90be-87a4f3a05a49');\n",
              "        const dataTable =\n",
              "          await google.colab.kernel.invokeFunction('convertToInteractive',\n",
              "                                                    [key], {});\n",
              "        if (!dataTable) return;\n",
              "\n",
              "        const docLinkHtml = 'Like what you see? Visit the ' +\n",
              "          '<a target=\"_blank\" href=https://colab.research.google.com/notebooks/data_table.ipynb>data table notebook</a>'\n",
              "          + ' to learn more about interactive tables.';\n",
              "        element.innerHTML = '';\n",
              "        dataTable['output_type'] = 'display_data';\n",
              "        await google.colab.output.renderOutput(dataTable, element);\n",
              "        const docLink = document.createElement('div');\n",
              "        docLink.innerHTML = docLinkHtml;\n",
              "        element.appendChild(docLink);\n",
              "      }\n",
              "    </script>\n",
              "  </div>\n",
              "\n",
              "\n",
              "<div id=\"df-837438b3-a839-41be-a5e5-86610e8b04df\">\n",
              "  <button class=\"colab-df-quickchart\" onclick=\"quickchart('df-837438b3-a839-41be-a5e5-86610e8b04df')\"\n",
              "            title=\"Suggest charts.\"\n",
              "            style=\"display:none;\">\n",
              "\n",
              "<svg xmlns=\"http://www.w3.org/2000/svg\" height=\"24px\"viewBox=\"0 0 24 24\"\n",
              "     width=\"24px\">\n",
              "    <g>\n",
              "        <path d=\"M19 3H5c-1.1 0-2 .9-2 2v14c0 1.1.9 2 2 2h14c1.1 0 2-.9 2-2V5c0-1.1-.9-2-2-2zM9 17H7v-7h2v7zm4 0h-2V7h2v10zm4 0h-2v-4h2v4z\"/>\n",
              "    </g>\n",
              "</svg>\n",
              "  </button>\n",
              "\n",
              "<style>\n",
              "  .colab-df-quickchart {\n",
              "      --bg-color: #E8F0FE;\n",
              "      --fill-color: #1967D2;\n",
              "      --hover-bg-color: #E2EBFA;\n",
              "      --hover-fill-color: #174EA6;\n",
              "      --disabled-fill-color: #AAA;\n",
              "      --disabled-bg-color: #DDD;\n",
              "  }\n",
              "\n",
              "  [theme=dark] .colab-df-quickchart {\n",
              "      --bg-color: #3B4455;\n",
              "      --fill-color: #D2E3FC;\n",
              "      --hover-bg-color: #434B5C;\n",
              "      --hover-fill-color: #FFFFFF;\n",
              "      --disabled-bg-color: #3B4455;\n",
              "      --disabled-fill-color: #666;\n",
              "  }\n",
              "\n",
              "  .colab-df-quickchart {\n",
              "    background-color: var(--bg-color);\n",
              "    border: none;\n",
              "    border-radius: 50%;\n",
              "    cursor: pointer;\n",
              "    display: none;\n",
              "    fill: var(--fill-color);\n",
              "    height: 32px;\n",
              "    padding: 0;\n",
              "    width: 32px;\n",
              "  }\n",
              "\n",
              "  .colab-df-quickchart:hover {\n",
              "    background-color: var(--hover-bg-color);\n",
              "    box-shadow: 0 1px 2px rgba(60, 64, 67, 0.3), 0 1px 3px 1px rgba(60, 64, 67, 0.15);\n",
              "    fill: var(--button-hover-fill-color);\n",
              "  }\n",
              "\n",
              "  .colab-df-quickchart-complete:disabled,\n",
              "  .colab-df-quickchart-complete:disabled:hover {\n",
              "    background-color: var(--disabled-bg-color);\n",
              "    fill: var(--disabled-fill-color);\n",
              "    box-shadow: none;\n",
              "  }\n",
              "\n",
              "  .colab-df-spinner {\n",
              "    border: 2px solid var(--fill-color);\n",
              "    border-color: transparent;\n",
              "    border-bottom-color: var(--fill-color);\n",
              "    animation:\n",
              "      spin 1s steps(1) infinite;\n",
              "  }\n",
              "\n",
              "  @keyframes spin {\n",
              "    0% {\n",
              "      border-color: transparent;\n",
              "      border-bottom-color: var(--fill-color);\n",
              "      border-left-color: var(--fill-color);\n",
              "    }\n",
              "    20% {\n",
              "      border-color: transparent;\n",
              "      border-left-color: var(--fill-color);\n",
              "      border-top-color: var(--fill-color);\n",
              "    }\n",
              "    30% {\n",
              "      border-color: transparent;\n",
              "      border-left-color: var(--fill-color);\n",
              "      border-top-color: var(--fill-color);\n",
              "      border-right-color: var(--fill-color);\n",
              "    }\n",
              "    40% {\n",
              "      border-color: transparent;\n",
              "      border-right-color: var(--fill-color);\n",
              "      border-top-color: var(--fill-color);\n",
              "    }\n",
              "    60% {\n",
              "      border-color: transparent;\n",
              "      border-right-color: var(--fill-color);\n",
              "    }\n",
              "    80% {\n",
              "      border-color: transparent;\n",
              "      border-right-color: var(--fill-color);\n",
              "      border-bottom-color: var(--fill-color);\n",
              "    }\n",
              "    90% {\n",
              "      border-color: transparent;\n",
              "      border-bottom-color: var(--fill-color);\n",
              "    }\n",
              "  }\n",
              "</style>\n",
              "\n",
              "  <script>\n",
              "    async function quickchart(key) {\n",
              "      const quickchartButtonEl =\n",
              "        document.querySelector('#' + key + ' button');\n",
              "      quickchartButtonEl.disabled = true;  // To prevent multiple clicks.\n",
              "      quickchartButtonEl.classList.add('colab-df-spinner');\n",
              "      try {\n",
              "        const charts = await google.colab.kernel.invokeFunction(\n",
              "            'suggestCharts', [key], {});\n",
              "      } catch (error) {\n",
              "        console.error('Error during call to suggestCharts:', error);\n",
              "      }\n",
              "      quickchartButtonEl.classList.remove('colab-df-spinner');\n",
              "      quickchartButtonEl.classList.add('colab-df-quickchart-complete');\n",
              "    }\n",
              "    (() => {\n",
              "      let quickchartButtonEl =\n",
              "        document.querySelector('#df-837438b3-a839-41be-a5e5-86610e8b04df button');\n",
              "      quickchartButtonEl.style.display =\n",
              "        google.colab.kernel.accessAllowed ? 'block' : 'none';\n",
              "    })();\n",
              "  </script>\n",
              "</div>\n",
              "    </div>\n",
              "  </div>\n"
            ]
          },
          "metadata": {},
          "execution_count": 324
        }
      ]
    },
    {
      "cell_type": "code",
      "source": [
        "#proses enrichment dengan menggunakan df_inflasion berdasarkan tahun rilis sebagai join key\n",
        "df = pd.merge(__)\n",
        "df.head()"
      ],
      "metadata": {
        "id": "cUmsFfKthAw7"
      },
      "execution_count": null,
      "outputs": []
    },
    {
      "cell_type": "code",
      "source": [
        "# hitung adjusted profit dengan menggunakan present_equivalent_value\n",
        "df['adjusted_profit'] = __\n",
        "df[['name','year','budget','gross','unadjusted_gross','unadjusted_profit', 'present_equivalent_value','adjusted_profit']].sample(5)"
      ],
      "metadata": {
        "id": "Pn3J1yE9hezE"
      },
      "execution_count": null,
      "outputs": []
    },
    {
      "cell_type": "markdown",
      "source": [
        "###2.2.4 Kategorisasi Profit"
      ],
      "metadata": {
        "id": "c5TXP9NIiNEZ"
      }
    },
    {
      "cell_type": "code",
      "source": [
        "df['adjusted_profit'].describe()"
      ],
      "metadata": {
        "id": "vLAsz3lkj9nS"
      },
      "execution_count": null,
      "outputs": []
    },
    {
      "cell_type": "code",
      "source": [
        "# lakukan kategorisasi adjusted profit berdasarkan bracket/bins yang tertera pada deskripsi di awal project ini.\n",
        "# labels=['loss', 'low_profit', 'medium_profit', 'high_profit', 'very_high_profit']\n",
        "\n",
        "df['profit_class'] = pd.cut(__,\n",
        "       bins=[__],\n",
        "       labels = [__],\n",
        "       include_lowest=True)\n",
        "df[['name','adjusted_profit','profit_class']]"
      ],
      "metadata": {
        "id": "__Sfa2PLiOQP"
      },
      "execution_count": null,
      "outputs": []
    },
    {
      "cell_type": "code",
      "source": [
        "df.head()"
      ],
      "metadata": {
        "id": "91Ima9ISkRRY"
      },
      "execution_count": null,
      "outputs": []
    },
    {
      "cell_type": "code",
      "source": [
        "df[df['profit_class'].isna()]"
      ],
      "metadata": {
        "id": "B6M4DKKRnsfN"
      },
      "execution_count": null,
      "outputs": []
    },
    {
      "cell_type": "code",
      "source": [
        "selected_cols = ['name','rating','genre','year','released_date','score',\n",
        "                 'director','budget','unadjusted_gross','unadjusted_profit','adjusted_profit','profit_class']\n",
        "df = df[selected_cols]\n",
        "df.head()"
      ],
      "metadata": {
        "id": "6bz_PPDVjpHs"
      },
      "execution_count": null,
      "outputs": []
    },
    {
      "cell_type": "markdown",
      "source": [
        "#3. Verifying"
      ],
      "metadata": {
        "id": "mX8qX9E0kchL"
      }
    },
    {
      "cell_type": "code",
      "source": [
        "#verifikasi data menggunakan library pandera\n",
        "\n",
        "schema = pa.DataFrameSchema(\n",
        "    {\n",
        "        \"year\": pa.Column(int, pa.Check.isin(list(range(1980,2023)))),\n",
        "        \"budget\": pa.Column(int, pa.Check.greater_than(0))\n",
        "    }\n",
        ")\n",
        "schema.validate(df)"
      ],
      "metadata": {
        "id": "q1jLUz7HkeIa"
      },
      "execution_count": null,
      "outputs": []
    },
    {
      "cell_type": "markdown",
      "source": [
        "#4. Publishing"
      ],
      "metadata": {
        "id": "rZnHkbsLvsx9"
      }
    },
    {
      "cell_type": "code",
      "source": [
        "df_for_analyst = df.copy()\n",
        "df_for_datsci = df.copy()\n",
        "\n",
        "print(\"Number of Records for Dat Analyst: \", len(df_for_analyst))\n",
        "print(\"Number of Records for Data Scientist: \", len(df_for_datsci))"
      ],
      "metadata": {
        "colab": {
          "base_uri": "https://localhost:8080/"
        },
        "id": "93dggfbJ1YSn",
        "outputId": "2a9265ba-2694-4b99-861b-24ea404e10c0"
      },
      "execution_count": null,
      "outputs": [
        {
          "output_type": "stream",
          "name": "stdout",
          "text": [
            "Number of Records for Dat Analyst:  5433\n",
            "Number of Records for Data Scientist:  5433\n"
          ]
        }
      ]
    },
    {
      "cell_type": "markdown",
      "source": [
        "##4.1 For Data Analyst"
      ],
      "metadata": {
        "id": "GDOncC0H63i8"
      }
    },
    {
      "cell_type": "code",
      "source": [
        "df_for_analyst.head()"
      ],
      "metadata": {
        "id": "SG_E1iof8Awm"
      },
      "execution_count": null,
      "outputs": []
    },
    {
      "cell_type": "markdown",
      "source": [
        "korelasi antara imdb score dengan adjusted profit. Apakah tingginya *tingginya imdb score* berkorelasi dengan nilai *adjusted profit*?"
      ],
      "metadata": {
        "id": "2BTC7F7iB9Rp"
      }
    },
    {
      "cell_type": "code",
      "source": [
        "# hitung korelasi antara imdb score dan adjusted profit"
      ],
      "metadata": {
        "id": "Lh74ffTd8hJj"
      },
      "execution_count": null,
      "outputs": []
    },
    {
      "cell_type": "markdown",
      "source": [
        "Kelompokkan data berdasarkan *profit_class* dan bandingkan jumlah film yang dikategorikan ke dalam masing-masing kategori pada *profit_class*. Buatlah sebuah visualisasi atas perbandingan tersebut!"
      ],
      "metadata": {
        "id": "3bI-ydCZCOmM"
      }
    },
    {
      "cell_type": "code",
      "source": [
        "df_for_analyst.groupby(__)['name'].__().plot.bar(rot=45)"
      ],
      "metadata": {
        "id": "fYI7H0Yv8r98"
      },
      "execution_count": null,
      "outputs": []
    },
    {
      "cell_type": "markdown",
      "source": [
        "Ekspor data final ke dalam sebuah file **movies_clean.csv**"
      ],
      "metadata": {
        "id": "6oISUEBlCgSQ"
      }
    },
    {
      "cell_type": "code",
      "source": [
        "df_for_analyst.__"
      ],
      "metadata": {
        "id": "It5T288M-qxU"
      },
      "execution_count": null,
      "outputs": []
    },
    {
      "cell_type": "markdown",
      "source": [
        "##4.2 For Data Scientist"
      ],
      "metadata": {
        "id": "MPHORZpg69M_"
      }
    },
    {
      "cell_type": "markdown",
      "source": [
        "Metode encoding apa yang tepat untuk *profit_class*? One-Hot Encoding atau Label Encoding?"
      ],
      "metadata": {
        "id": "i7nbEMinCmV4"
      }
    },
    {
      "cell_type": "code",
      "source": [
        "# kategori profit class\n",
        "df_for_datsci[__].dtype.categories"
      ],
      "metadata": {
        "id": "d_N_7DsLGaed"
      },
      "execution_count": null,
      "outputs": []
    },
    {
      "cell_type": "code",
      "source": [
        "profit2class = {c:i for i,c in enumerate(__.to_list())}\n",
        "profit2class"
      ],
      "metadata": {
        "id": "1mSlb1QlwWsu"
      },
      "execution_count": null,
      "outputs": []
    },
    {
      "cell_type": "code",
      "source": [
        "df_for_datsci['profit_class'] = df_for_datsci['profit_class'].apply(lambda x: profit2class.get(x))\n",
        "df_for_datsci.head()"
      ],
      "metadata": {
        "id": "4LVPh_uD1Vj4"
      },
      "execution_count": null,
      "outputs": []
    },
    {
      "cell_type": "markdown",
      "source": [
        "Metode encoding apa yang tepat untuk *rating*? One-Hot Encoding atau Label Encoding?"
      ],
      "metadata": {
        "id": "udtB1luxC2i5"
      }
    },
    {
      "cell_type": "code",
      "source": [
        "rating_hierarchy = ['Approved','G','PG','PG-13','R','NC-17','X','TV-MA','Not Rated','Unrated']\n",
        "rating2class = {r:i for i, r in enumerate(rating_hierarchy)}\n",
        "rating2class"
      ],
      "metadata": {
        "id": "ID7asUdhGmEO"
      },
      "execution_count": null,
      "outputs": []
    },
    {
      "cell_type": "code",
      "source": [
        "df_for_datsci['rating'] = df_for_datsci['rating'].apply(lambda x: rating2class.get(x))\n",
        "df_for_datsci.head()"
      ],
      "metadata": {
        "id": "ojpoDoFX2f2e"
      },
      "execution_count": null,
      "outputs": []
    },
    {
      "cell_type": "markdown",
      "source": [
        "Metode encoding apa yang tepat untuk *genre*? One-Hot Encoding atau Label Encoding?"
      ],
      "metadata": {
        "id": "lpqdPgR8C_SZ"
      }
    },
    {
      "cell_type": "code",
      "source": [
        "df_for_datsci = df_for_datsci.join(pd.get_dummies(df['genre'], 'genre'))\n",
        "df_for_datsci.head()"
      ],
      "metadata": {
        "id": "r-v6yMqO5ATt"
      },
      "execution_count": null,
      "outputs": []
    },
    {
      "cell_type": "code",
      "source": [
        "columns  = list(df_for_datsci.columns)"
      ],
      "metadata": {
        "id": "7klKDNQE7FvU"
      },
      "execution_count": null,
      "outputs": []
    },
    {
      "cell_type": "code",
      "source": [
        "genre_cols = [c for c in columns if c.startswith(\"genre_\")]"
      ],
      "metadata": {
        "id": "oRL0rHn57Zsl"
      },
      "execution_count": null,
      "outputs": []
    },
    {
      "cell_type": "code",
      "source": [
        "new_cols = columns[:2] + genre_cols + columns[3:12]\n",
        "df_for_datsci = df_for_datsci[new_cols]\n",
        "df_for_datsci.head()"
      ],
      "metadata": {
        "id": "ppzM2tBp7hxm"
      },
      "execution_count": null,
      "outputs": []
    },
    {
      "cell_type": "markdown",
      "source": [
        "Ekspor data final untuk data scientist ke sebuah **movies_clean_for_datsci.csv** file"
      ],
      "metadata": {
        "id": "rVkTFuIVDGlY"
      }
    },
    {
      "cell_type": "code",
      "source": [],
      "metadata": {
        "id": "oNCm1Qo7DKNp"
      },
      "execution_count": null,
      "outputs": []
    }
  ]
}